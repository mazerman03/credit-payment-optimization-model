{
 "cells": [
  {
   "cell_type": "code",
   "execution_count": 1,
   "id": "5e19e853",
   "metadata": {},
   "outputs": [
    {
     "name": "stdout",
     "output_type": "stream",
     "text": [
      "   idListaCobro  fechaCreacionLista  idBanco fechaEnvioCobro\n",
      "0         79678  04/01/2022 11:16AM       12      04/01/2022\n",
      "1         79746   04/01/2022 6:36PM       12      04/01/2022\n",
      "2         80111   11/01/2022 2:51PM       12      11/01/2022\n",
      "3         80314  13/01/2022 11:44AM       12      13/01/2022\n",
      "4         80507   14/01/2022 6:09PM       12      14/01/2022\n"
     ]
    }
   ],
   "source": [
    "import pandas as pd\n",
    "\n",
    "# Ajusta la ruta y nombre de tu CSV\n",
    "df = pd.read_csv(\"data/raw/ListaCobro.csv\", nrows=5)\n",
    "print(df)"
   ]
  }
 ],
 "metadata": {
  "kernelspec": {
   "display_name": "analisis_datos",
   "language": "python",
   "name": "python3"
  },
  "language_info": {
   "codemirror_mode": {
    "name": "ipython",
    "version": 3
   },
   "file_extension": ".py",
   "mimetype": "text/x-python",
   "name": "python",
   "nbconvert_exporter": "python",
   "pygments_lexer": "ipython3",
   "version": "3.11.8"
  }
 },
 "nbformat": 4,
 "nbformat_minor": 5
}
